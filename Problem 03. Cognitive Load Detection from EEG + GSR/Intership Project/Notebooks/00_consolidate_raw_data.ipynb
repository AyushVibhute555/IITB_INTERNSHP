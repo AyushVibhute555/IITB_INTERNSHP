{
 "cells": [
  {
   "cell_type": "code",
   "execution_count": 1,
   "id": "fe04ff21",
   "metadata": {},
   "outputs": [
    {
     "name": "stdout",
     "output_type": "stream",
     "text": [
      "Output directory created at: ../data/raw/All_raw_data\n",
      "\n",
      "Consolidating and cleaning EEG files...\n"
     ]
    },
    {
     "name": "stderr",
     "output_type": "stream",
     "text": [
      "Processing EEG: 100%|██████████| 38/38 [03:10<00:00,  5.02s/it]\n"
     ]
    },
    {
     "name": "stdout",
     "output_type": "stream",
     "text": [
      "Successfully created master EEG.csv\n",
      "\n",
      "Consolidating and cleaning GSR files...\n"
     ]
    },
    {
     "name": "stderr",
     "output_type": "stream",
     "text": [
      "Processing GSR: 100%|██████████| 38/38 [00:19<00:00,  1.96it/s]\n"
     ]
    },
    {
     "name": "stdout",
     "output_type": "stream",
     "text": [
      "Successfully created master GSR.csv\n",
      "\n",
      "Consolidating and cleaning PSY files...\n"
     ]
    },
    {
     "name": "stderr",
     "output_type": "stream",
     "text": [
      "Processing PSY: 100%|██████████| 38/38 [00:00<00:00, 320.23it/s]"
     ]
    },
    {
     "name": "stdout",
     "output_type": "stream",
     "text": [
      "Successfully created master PSY.csv\n",
      "\n",
      "Data consolidation, cleaning, and summarization complete.\n"
     ]
    },
    {
     "name": "stderr",
     "output_type": "stream",
     "text": [
      "\n"
     ]
    }
   ],
   "source": [
    "# ## 00 - Consolidate Raw Data (Cleaned and Summarized Version)\n",
    "#\n",
    "# **Objective:** Combine the individual raw data files from all 38 participants\n",
    "# into three master CSV files. This version cleans the data, handles errors, and\n",
    "# selects only the most relevant columns to create summarized, analysis-ready files.\n",
    "#\n",
    "# **Input:** All individual participant files from `../data/raw/` (e.g., `1_EEG.csv`, `1_GSR.csv`, etc.)\n",
    "#\n",
    "# **Output:** Three cleaned and summarized CSV files saved in `../data/raw/All_raw_data/`:\n",
    "# 1. `EEG.csv` (with selected columns)\n",
    "# 2. `GSR.csv` (with selected columns)\n",
    "# 3. `PSY.csv` (cleaned)\n",
    "\n",
    "import pandas as pd\n",
    "import numpy as np\n",
    "import os\n",
    "from tqdm import tqdm\n",
    "\n",
    "# --- Configuration ---\n",
    "RAW_DATA_DIR = '../data/raw/'\n",
    "OUTPUT_DIR = os.path.join(RAW_DATA_DIR, 'All_raw_data')\n",
    "NUM_PARTICIPANTS = 38\n",
    "\n",
    "# Create the output directory if it doesn't exist\n",
    "os.makedirs(OUTPUT_DIR, exist_ok=True)\n",
    "print(f\"Output directory created at: {OUTPUT_DIR}\")\n",
    "\n",
    "# --- Define the essential columns to keep for summarization ---\n",
    "EEG_COLS_TO_KEEP = [\n",
    "    'UnixTime', 'Delta_TP9', 'Theta_TP9', 'Alpha_TP9', 'Beta_TP9', 'Gamma_TP9',\n",
    "    'Delta_AF7', 'Theta_AF7', 'Alpha_AF7', 'Beta_AF7', 'Gamma_AF7',\n",
    "    'Delta_AF8', 'Theta_AF8', 'Alpha_AF8', 'Beta_AF8', 'Gamma_AF8',\n",
    "    'Delta_TP10', 'Theta_TP10', 'Alpha_TP10', 'Beta_TP10', 'Gamma_TP10'\n",
    "]\n",
    "GSR_COLS_TO_KEEP = ['UnixTime', 'GSR Conductance CAL']\n",
    "\n",
    "# --- Helper Function for Memory-Efficient Consolidation ---\n",
    "def consolidate_files(file_prefix, output_filename, cols_to_keep=None):\n",
    "    \"\"\"\n",
    "    Reads, cleans, selects columns, and appends participant files to a master CSV.\n",
    "    \"\"\"\n",
    "    master_file_path = os.path.join(OUTPUT_DIR, output_filename)\n",
    "    is_first_file = True\n",
    "\n",
    "    print(f\"\\nConsolidating and cleaning {file_prefix} files...\")\n",
    "    for participant_id in tqdm(range(1, NUM_PARTICIPANTS + 1), desc=f\"Processing {file_prefix}\"):\n",
    "        try:\n",
    "            file_path = os.path.join(RAW_DATA_DIR, f'{participant_id}_{file_prefix}.csv')\n",
    "            df = pd.read_csv(file_path, low_memory=False)\n",
    "            \n",
    "            # --- Data Cleaning ---\n",
    "            # Handle infinity values\n",
    "            df.replace([np.inf, -np.inf], np.nan, inplace=True)\n",
    "            \n",
    "            # Clean timestamp columns\n",
    "            if 'UnixTime' in df.columns:\n",
    "                df['UnixTime'] = pd.to_numeric(df['UnixTime'], errors='coerce')\n",
    "                df.dropna(subset=['UnixTime'], inplace=True)\n",
    "            if 'routineStart' in df.columns:\n",
    "                df['routineStart'] = pd.to_numeric(df['routineStart'], errors='coerce')\n",
    "                df['routineEnd'] = pd.to_numeric(df['routineEnd'], errors='coerce')\n",
    "                df.dropna(subset=['routineStart', 'routineEnd'], inplace=True)\n",
    "\n",
    "            # --- Summarization (Column Selection) ---\n",
    "            if cols_to_keep:\n",
    "                # Add ParticipantID before selecting columns\n",
    "                df['ParticipantID'] = participant_id\n",
    "                # Ensure all desired columns exist, fill missing with NaN (which we'll clean)\n",
    "                for col in cols_to_keep:\n",
    "                    if col not in df.columns:\n",
    "                        df[col] = np.nan\n",
    "                df = df[cols_to_keep + ['ParticipantID']]\n",
    "            else:\n",
    "                 df['ParticipantID'] = participant_id\n",
    "\n",
    "            # Final cleaning of any remaining missing data in relevant columns\n",
    "            df.fillna(0, inplace=True)\n",
    "            \n",
    "            # Append to master file\n",
    "            if is_first_file:\n",
    "                df.to_csv(master_file_path, index=False, mode='w', header=True)\n",
    "                is_first_file = False\n",
    "            else:\n",
    "                df.to_csv(master_file_path, index=False, mode='a', header=False)\n",
    "\n",
    "        except FileNotFoundError:\n",
    "            print(f\"Warning: File for participant {participant_id}_{file_prefix}.csv not found. Skipping.\")\n",
    "            continue\n",
    "    \n",
    "    if not is_first_file:\n",
    "        print(f\"Successfully created master {output_filename}\")\n",
    "    else:\n",
    "        print(f\"No {file_prefix} files were found to consolidate.\")\n",
    "\n",
    "# --- Run the Consolidation for Each File Type ---\n",
    "consolidate_files('EEG', 'EEG.csv', cols_to_keep=EEG_COLS_TO_KEEP)\n",
    "consolidate_files('GSR', 'GSR.csv', cols_to_keep=GSR_COLS_TO_KEEP)\n",
    "consolidate_files('PSY', 'PSY.csv')\n",
    "\n",
    "print(\"\\nData consolidation, cleaning, and summarization complete.\")\n",
    "\n"
   ]
  }
 ],
 "metadata": {
  "kernelspec": {
   "display_name": "venv",
   "language": "python",
   "name": "python3"
  },
  "language_info": {
   "codemirror_mode": {
    "name": "ipython",
    "version": 3
   },
   "file_extension": ".py",
   "mimetype": "text/x-python",
   "name": "python",
   "nbconvert_exporter": "python",
   "pygments_lexer": "ipython3",
   "version": "3.11.9"
  }
 },
 "nbformat": 4,
 "nbformat_minor": 5
}
